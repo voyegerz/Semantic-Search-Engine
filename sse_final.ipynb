{
 "cells": [
  {
   "cell_type": "code",
   "execution_count": 1,
   "metadata": {},
   "outputs": [],
   "source": [
    "import sqlite3\n",
    "import pandas as pd\n",
    "from tqdm import tqdm, tqdm_notebook\n",
    "import re\n",
    "import numpy\n",
    "from joblib import Parallel, delayed\n",
    "tqdm.pandas()"
   ]
  },
  {
   "cell_type": "code",
   "execution_count": 2,
   "metadata": {},
   "outputs": [
    {
     "name": "stdout",
     "output_type": "stream",
     "text": [
      "Requirement already satisfied: tqdm_joblib in c:\\users\\neera\\appdata\\local\\programs\\python\\python311\\lib\\site-packages (0.0.3)Note: you may need to restart the kernel to use updated packages.\n",
      "\n",
      "Requirement already satisfied: tqdm in c:\\users\\neera\\appdata\\local\\programs\\python\\python311\\lib\\site-packages (from tqdm_joblib) (4.66.2)\n",
      "Requirement already satisfied: colorama in c:\\users\\neera\\appdata\\local\\programs\\python\\python311\\lib\\site-packages (from tqdm->tqdm_joblib) (0.4.6)\n"
     ]
    },
    {
     "name": "stderr",
     "output_type": "stream",
     "text": [
      "\n",
      "[notice] A new release of pip is available: 23.2.1 -> 24.0\n",
      "[notice] To update, run: python.exe -m pip install --upgrade pip\n"
     ]
    }
   ],
   "source": [
    "%pip install tqdm_joblib"
   ]
  },
  {
   "cell_type": "code",
   "execution_count": 3,
   "metadata": {},
   "outputs": [
    {
     "name": "stderr",
     "output_type": "stream",
     "text": [
      "c:\\Users\\neera\\AppData\\Local\\Programs\\Python\\Python311\\Lib\\site-packages\\tqdm_joblib\\__init__.py:4: TqdmWarning: IProgress not found. Please update jupyter and ipywidgets. See https://ipywidgets.readthedocs.io/en/stable/user_install.html\n",
      "  from tqdm.autonotebook import tqdm\n"
     ]
    }
   ],
   "source": [
    "from tqdm_joblib import tqdm_joblib"
   ]
  },
  {
   "cell_type": "code",
   "execution_count": 4,
   "metadata": {},
   "outputs": [
    {
     "name": "stdout",
     "output_type": "stream",
     "text": [
      "[('zipfiles',)]\n"
     ]
    }
   ],
   "source": [
    "# Read the code below and write your observation in the next cell\n",
    "\n",
    "conn = sqlite3.connect('eng_subtitles_database.db')\n",
    "cursor = conn.cursor()\n",
    "cursor.execute(\"SELECT name FROM sqlite_master WHERE type='table'\")\n",
    "print(cursor.fetchall())"
   ]
  },
  {
   "cell_type": "code",
   "execution_count": 5,
   "metadata": {},
   "outputs": [
    {
     "name": "stdout",
     "output_type": "stream",
     "text": [
      "num\n",
      "name\n",
      "content\n"
     ]
    }
   ],
   "source": [
    "cursor.execute(\"PRAGMA table_info('zipfiles')\")\n",
    "cols = cursor.fetchall()\n",
    "for col in cols:\n",
    "    print(col[1])"
   ]
  },
  {
   "cell_type": "code",
   "execution_count": 6,
   "metadata": {},
   "outputs": [
    {
     "data": {
      "text/html": [
       "<div>\n",
       "<style scoped>\n",
       "    .dataframe tbody tr th:only-of-type {\n",
       "        vertical-align: middle;\n",
       "    }\n",
       "\n",
       "    .dataframe tbody tr th {\n",
       "        vertical-align: top;\n",
       "    }\n",
       "\n",
       "    .dataframe thead th {\n",
       "        text-align: right;\n",
       "    }\n",
       "</style>\n",
       "<table border=\"1\" class=\"dataframe\">\n",
       "  <thead>\n",
       "    <tr style=\"text-align: right;\">\n",
       "      <th></th>\n",
       "      <th>num</th>\n",
       "      <th>name</th>\n",
       "      <th>content</th>\n",
       "    </tr>\n",
       "  </thead>\n",
       "  <tbody>\n",
       "    <tr>\n",
       "      <th>0</th>\n",
       "      <td>9180533</td>\n",
       "      <td>the.message.(1976).eng.1cd</td>\n",
       "      <td>b'PK\\x03\\x04\\x14\\x00\\x00\\x00\\x08\\x00\\x1c\\xa9\\x...</td>\n",
       "    </tr>\n",
       "    <tr>\n",
       "      <th>1</th>\n",
       "      <td>9180583</td>\n",
       "      <td>here.comes.the.grump.s01.e09.joltin.jack.in.bo...</td>\n",
       "      <td>b'PK\\x03\\x04\\x14\\x00\\x00\\x00\\x08\\x00\\x17\\xb9\\x...</td>\n",
       "    </tr>\n",
       "    <tr>\n",
       "      <th>2</th>\n",
       "      <td>9180592</td>\n",
       "      <td>yumis.cells.s02.e13.episode.2.13.(2022).eng.1cd</td>\n",
       "      <td>b'PK\\x03\\x04\\x14\\x00\\x00\\x00\\x08\\x00L\\xb9\\x99V...</td>\n",
       "    </tr>\n",
       "    <tr>\n",
       "      <th>3</th>\n",
       "      <td>9180594</td>\n",
       "      <td>yumis.cells.s02.e14.episode.2.14.(2022).eng.1cd</td>\n",
       "      <td>b'PK\\x03\\x04\\x14\\x00\\x00\\x00\\x08\\x00U\\xa9\\x99V...</td>\n",
       "    </tr>\n",
       "    <tr>\n",
       "      <th>4</th>\n",
       "      <td>9180600</td>\n",
       "      <td>broker.(2022).eng.1cd</td>\n",
       "      <td>b'PK\\x03\\x04\\x14\\x00\\x00\\x00\\x08\\x001\\xa9\\x99V...</td>\n",
       "    </tr>\n",
       "  </tbody>\n",
       "</table>\n",
       "</div>"
      ],
      "text/plain": [
       "       num                                               name  \\\n",
       "0  9180533                         the.message.(1976).eng.1cd   \n",
       "1  9180583  here.comes.the.grump.s01.e09.joltin.jack.in.bo...   \n",
       "2  9180592    yumis.cells.s02.e13.episode.2.13.(2022).eng.1cd   \n",
       "3  9180594    yumis.cells.s02.e14.episode.2.14.(2022).eng.1cd   \n",
       "4  9180600                              broker.(2022).eng.1cd   \n",
       "\n",
       "                                             content  \n",
       "0  b'PK\\x03\\x04\\x14\\x00\\x00\\x00\\x08\\x00\\x1c\\xa9\\x...  \n",
       "1  b'PK\\x03\\x04\\x14\\x00\\x00\\x00\\x08\\x00\\x17\\xb9\\x...  \n",
       "2  b'PK\\x03\\x04\\x14\\x00\\x00\\x00\\x08\\x00L\\xb9\\x99V...  \n",
       "3  b'PK\\x03\\x04\\x14\\x00\\x00\\x00\\x08\\x00U\\xa9\\x99V...  \n",
       "4  b'PK\\x03\\x04\\x14\\x00\\x00\\x00\\x08\\x001\\xa9\\x99V...  "
      ]
     },
     "execution_count": 6,
     "metadata": {},
     "output_type": "execute_result"
    }
   ],
   "source": [
    "df = pd.read_sql_query(\"\"\"SELECT * FROM zipfiles\"\"\", conn)\n",
    "df.head()"
   ]
  },
  {
   "cell_type": "code",
   "execution_count": 7,
   "metadata": {},
   "outputs": [
    {
     "name": "stdout",
     "output_type": "stream",
     "text": [
      "<class 'pandas.core.frame.DataFrame'>\n",
      "RangeIndex: 82498 entries, 0 to 82497\n",
      "Data columns (total 3 columns):\n",
      " #   Column   Non-Null Count  Dtype \n",
      "---  ------   --------------  ----- \n",
      " 0   num      82498 non-null  int64 \n",
      " 1   name     82498 non-null  object\n",
      " 2   content  82498 non-null  object\n",
      "dtypes: int64(1), object(2)\n",
      "memory usage: 1.9+ MB\n"
     ]
    }
   ],
   "source": [
    "df.info()"
   ]
  },
  {
   "cell_type": "code",
   "execution_count": 8,
   "metadata": {},
   "outputs": [],
   "source": [
    "df.drop_duplicates(inplace = True)"
   ]
  },
  {
   "cell_type": "code",
   "execution_count": 9,
   "metadata": {},
   "outputs": [
    {
     "data": {
      "text/plain": [
       "num        0\n",
       "name       0\n",
       "content    0\n",
       "dtype: int64"
      ]
     },
     "execution_count": 9,
     "metadata": {},
     "output_type": "execute_result"
    }
   ],
   "source": [
    "df.isna().sum()"
   ]
  },
  {
   "cell_type": "code",
   "execution_count": 10,
   "metadata": {},
   "outputs": [
    {
     "name": "stdout",
     "output_type": "stream",
     "text": [
      "b'PK\\x03\\x04\\x14\\x00\\x00\\x00\\x08\\x00\\x1c\\xa9\\x99V\\x9fx\\x96\\xf0\\x8c\\x9e\\x00\\x00\\x86\\x9b\\x01\\x00;\\x00\\x00\\x00The.Message.1976.REMASTERED.1080p.BluRay.x264-PiGNUS.EN.srt\\xad\\xbdm\\x93\\xdc\\xc6\\x91.\\xfa\\x9d\\x11'\n"
     ]
    }
   ],
   "source": [
    "b_data = df.iloc[0, 2]\n",
    "\n",
    "print(b_data[:100])"
   ]
  },
  {
   "cell_type": "code",
   "execution_count": 11,
   "metadata": {},
   "outputs": [
    {
     "name": "stdout",
     "output_type": "stream",
     "text": [
      "1\n",
      "00:00:06,000 --> 00:00:12,074\n",
      "Watch any video online with Open-SUBTITLES\n",
      "Free Browser extension\n"
     ]
    }
   ],
   "source": [
    "import zipfile\n",
    "import io\n",
    "\n",
    "# Assuming 'content' is the binary data from your database\n",
    "binary_data = df.iloc[385, 2]\n",
    "\n",
    "# Decompress the binary data using the zipfile module\n",
    "with io.BytesIO(binary_data) as f:\n",
    "    with zipfile.ZipFile(f, 'r') as zip_file:\n",
    "        # Reading only one file in the ZIP archive\n",
    "        subtitle_content = zip_file.read(zip_file.namelist()[0])\n",
    "\n",
    "# Now 'subtitle_content' should contain the extracted subtitle content\n",
    "print(subtitle_content.decode('latin-1')[:100])  # Assuming the content is latin-1 encoded text"
   ]
  },
  {
   "cell_type": "code",
   "execution_count": 12,
   "metadata": {},
   "outputs": [],
   "source": [
    "import zipfile\n",
    "import io\n",
    "\n",
    "count = 0\n",
    "\n",
    "def decode_method(binary_data):\n",
    "    global count\n",
    "    # Decompress the binary data using the zipfile module\n",
    "    # print(count, end=\" \")\n",
    "    count += 1\n",
    "    with io.BytesIO(binary_data) as f:\n",
    "        with zipfile.ZipFile(f, 'r') as zip_file:\n",
    "            # Assuming there's only one file in the ZIP archive\n",
    "            subtitle_content = zip_file.read(zip_file.namelist()[0])\n",
    "    \n",
    "    # Now 'subtitle_content' should contain the extracted subtitle content\n",
    "    return subtitle_content.decode('latin-1')  # Assuming the content is UTF-8 encoded text"
   ]
  },
  {
   "cell_type": "code",
   "execution_count": 13,
   "metadata": {},
   "outputs": [
    {
     "name": "stderr",
     "output_type": "stream",
     "text": [
      "100%|██████████| 82498/82498 [00:43<00:00, 1894.50it/s]\n"
     ]
    },
    {
     "data": {
      "text/html": [
       "<div>\n",
       "<style scoped>\n",
       "    .dataframe tbody tr th:only-of-type {\n",
       "        vertical-align: middle;\n",
       "    }\n",
       "\n",
       "    .dataframe tbody tr th {\n",
       "        vertical-align: top;\n",
       "    }\n",
       "\n",
       "    .dataframe thead th {\n",
       "        text-align: right;\n",
       "    }\n",
       "</style>\n",
       "<table border=\"1\" class=\"dataframe\">\n",
       "  <thead>\n",
       "    <tr style=\"text-align: right;\">\n",
       "      <th></th>\n",
       "      <th>num</th>\n",
       "      <th>name</th>\n",
       "      <th>content</th>\n",
       "      <th>file_content</th>\n",
       "    </tr>\n",
       "  </thead>\n",
       "  <tbody>\n",
       "    <tr>\n",
       "      <th>0</th>\n",
       "      <td>9180533</td>\n",
       "      <td>the.message.(1976).eng.1cd</td>\n",
       "      <td>b'PK\\x03\\x04\\x14\\x00\\x00\\x00\\x08\\x00\\x1c\\xa9\\x...</td>\n",
       "      <td>1\\r\\n00:00:06,000 --&gt; 00:00:12,074\\r\\nWatch an...</td>\n",
       "    </tr>\n",
       "    <tr>\n",
       "      <th>1</th>\n",
       "      <td>9180583</td>\n",
       "      <td>here.comes.the.grump.s01.e09.joltin.jack.in.bo...</td>\n",
       "      <td>b'PK\\x03\\x04\\x14\\x00\\x00\\x00\\x08\\x00\\x17\\xb9\\x...</td>\n",
       "      <td>1\\r\\n00:00:29,359 --&gt; 00:00:32,048\\r\\nAh! Ther...</td>\n",
       "    </tr>\n",
       "    <tr>\n",
       "      <th>2</th>\n",
       "      <td>9180592</td>\n",
       "      <td>yumis.cells.s02.e13.episode.2.13.(2022).eng.1cd</td>\n",
       "      <td>b'PK\\x03\\x04\\x14\\x00\\x00\\x00\\x08\\x00L\\xb9\\x99V...</td>\n",
       "      <td>1\\r\\n00:00:53,200 --&gt; 00:00:56,030\\r\\n&lt;i&gt;Yumi'...</td>\n",
       "    </tr>\n",
       "    <tr>\n",
       "      <th>3</th>\n",
       "      <td>9180594</td>\n",
       "      <td>yumis.cells.s02.e14.episode.2.14.(2022).eng.1cd</td>\n",
       "      <td>b'PK\\x03\\x04\\x14\\x00\\x00\\x00\\x08\\x00U\\xa9\\x99V...</td>\n",
       "      <td>1\\r\\n00:00:06,000 --&gt; 00:00:12,074\\r\\nWatch an...</td>\n",
       "    </tr>\n",
       "    <tr>\n",
       "      <th>4</th>\n",
       "      <td>9180600</td>\n",
       "      <td>broker.(2022).eng.1cd</td>\n",
       "      <td>b'PK\\x03\\x04\\x14\\x00\\x00\\x00\\x08\\x001\\xa9\\x99V...</td>\n",
       "      <td>ï»¿1\\r\\n00:00:06,000 --&gt; 00:00:12,074\\r\\nWatch...</td>\n",
       "    </tr>\n",
       "  </tbody>\n",
       "</table>\n",
       "</div>"
      ],
      "text/plain": [
       "       num                                               name  \\\n",
       "0  9180533                         the.message.(1976).eng.1cd   \n",
       "1  9180583  here.comes.the.grump.s01.e09.joltin.jack.in.bo...   \n",
       "2  9180592    yumis.cells.s02.e13.episode.2.13.(2022).eng.1cd   \n",
       "3  9180594    yumis.cells.s02.e14.episode.2.14.(2022).eng.1cd   \n",
       "4  9180600                              broker.(2022).eng.1cd   \n",
       "\n",
       "                                             content  \\\n",
       "0  b'PK\\x03\\x04\\x14\\x00\\x00\\x00\\x08\\x00\\x1c\\xa9\\x...   \n",
       "1  b'PK\\x03\\x04\\x14\\x00\\x00\\x00\\x08\\x00\\x17\\xb9\\x...   \n",
       "2  b'PK\\x03\\x04\\x14\\x00\\x00\\x00\\x08\\x00L\\xb9\\x99V...   \n",
       "3  b'PK\\x03\\x04\\x14\\x00\\x00\\x00\\x08\\x00U\\xa9\\x99V...   \n",
       "4  b'PK\\x03\\x04\\x14\\x00\\x00\\x00\\x08\\x001\\xa9\\x99V...   \n",
       "\n",
       "                                        file_content  \n",
       "0  1\\r\\n00:00:06,000 --> 00:00:12,074\\r\\nWatch an...  \n",
       "1  1\\r\\n00:00:29,359 --> 00:00:32,048\\r\\nAh! Ther...  \n",
       "2  1\\r\\n00:00:53,200 --> 00:00:56,030\\r\\n<i>Yumi'...  \n",
       "3  1\\r\\n00:00:06,000 --> 00:00:12,074\\r\\nWatch an...  \n",
       "4  ï»¿1\\r\\n00:00:06,000 --> 00:00:12,074\\r\\nWatch...  "
      ]
     },
     "execution_count": 13,
     "metadata": {},
     "output_type": "execute_result"
    }
   ],
   "source": [
    "df['file_content'] = df['content'].progress_apply(decode_method)\n",
    "\n",
    "df.head()"
   ]
  },
  {
   "cell_type": "code",
   "execution_count": 14,
   "metadata": {},
   "outputs": [
    {
     "name": "stdout",
     "output_type": "stream",
     "text": [
      "<class 'pandas.core.frame.DataFrame'>\n",
      "RangeIndex: 82498 entries, 0 to 82497\n",
      "Data columns (total 4 columns):\n",
      " #   Column        Non-Null Count  Dtype \n",
      "---  ------        --------------  ----- \n",
      " 0   num           82498 non-null  int64 \n",
      " 1   name          82498 non-null  object\n",
      " 2   content       82498 non-null  object\n",
      " 3   file_content  82498 non-null  object\n",
      "dtypes: int64(1), object(3)\n",
      "memory usage: 2.5+ MB\n"
     ]
    }
   ],
   "source": [
    "df.info()"
   ]
  },
  {
   "cell_type": "code",
   "execution_count": 15,
   "metadata": {},
   "outputs": [
    {
     "name": "stdout",
     "output_type": "stream",
     "text": [
      "1\n",
      "00:00:06,000 --> 00:00:12,074\n",
      "Watch any video online with Open-SUBTITLES\n",
      "Free Browser extension\n"
     ]
    }
   ],
   "source": [
    "print(df.iloc[0, 3][:100])"
   ]
  },
  {
   "cell_type": "code",
   "execution_count": 16,
   "metadata": {},
   "outputs": [],
   "source": [
    "\n",
    "# import nltk\n",
    "# from nltk.tokenize import word_tokenize\n",
    "# from nltk.corpus import stopwords\n",
    "# from nltk.stem.porter import PorterStemmer\n",
    "# from nltk.stem import WordNetLemmatizer\n"
   ]
  },
  {
   "cell_type": "code",
   "execution_count": 17,
   "metadata": {},
   "outputs": [
    {
     "data": {
      "text/html": [
       "<div>\n",
       "<style scoped>\n",
       "    .dataframe tbody tr th:only-of-type {\n",
       "        vertical-align: middle;\n",
       "    }\n",
       "\n",
       "    .dataframe tbody tr th {\n",
       "        vertical-align: top;\n",
       "    }\n",
       "\n",
       "    .dataframe thead th {\n",
       "        text-align: right;\n",
       "    }\n",
       "</style>\n",
       "<table border=\"1\" class=\"dataframe\">\n",
       "  <thead>\n",
       "    <tr style=\"text-align: right;\">\n",
       "      <th></th>\n",
       "      <th>subtitle_id</th>\n",
       "      <th>subtitle_name</th>\n",
       "      <th>subtitle_content</th>\n",
       "    </tr>\n",
       "  </thead>\n",
       "  <tbody>\n",
       "    <tr>\n",
       "      <th>0</th>\n",
       "      <td>9180533</td>\n",
       "      <td>the.message.(1976).eng.1cd</td>\n",
       "      <td>1\\r\\n00:00:06,000 --&gt; 00:00:12,074\\r\\nWatch an...</td>\n",
       "    </tr>\n",
       "    <tr>\n",
       "      <th>1</th>\n",
       "      <td>9180583</td>\n",
       "      <td>here.comes.the.grump.s01.e09.joltin.jack.in.bo...</td>\n",
       "      <td>1\\r\\n00:00:29,359 --&gt; 00:00:32,048\\r\\nAh! Ther...</td>\n",
       "    </tr>\n",
       "    <tr>\n",
       "      <th>2</th>\n",
       "      <td>9180592</td>\n",
       "      <td>yumis.cells.s02.e13.episode.2.13.(2022).eng.1cd</td>\n",
       "      <td>1\\r\\n00:00:53,200 --&gt; 00:00:56,030\\r\\n&lt;i&gt;Yumi'...</td>\n",
       "    </tr>\n",
       "    <tr>\n",
       "      <th>3</th>\n",
       "      <td>9180594</td>\n",
       "      <td>yumis.cells.s02.e14.episode.2.14.(2022).eng.1cd</td>\n",
       "      <td>1\\r\\n00:00:06,000 --&gt; 00:00:12,074\\r\\nWatch an...</td>\n",
       "    </tr>\n",
       "    <tr>\n",
       "      <th>4</th>\n",
       "      <td>9180600</td>\n",
       "      <td>broker.(2022).eng.1cd</td>\n",
       "      <td>ï»¿1\\r\\n00:00:06,000 --&gt; 00:00:12,074\\r\\nWatch...</td>\n",
       "    </tr>\n",
       "  </tbody>\n",
       "</table>\n",
       "</div>"
      ],
      "text/plain": [
       "   subtitle_id                                      subtitle_name  \\\n",
       "0      9180533                         the.message.(1976).eng.1cd   \n",
       "1      9180583  here.comes.the.grump.s01.e09.joltin.jack.in.bo...   \n",
       "2      9180592    yumis.cells.s02.e13.episode.2.13.(2022).eng.1cd   \n",
       "3      9180594    yumis.cells.s02.e14.episode.2.14.(2022).eng.1cd   \n",
       "4      9180600                              broker.(2022).eng.1cd   \n",
       "\n",
       "                                    subtitle_content  \n",
       "0  1\\r\\n00:00:06,000 --> 00:00:12,074\\r\\nWatch an...  \n",
       "1  1\\r\\n00:00:29,359 --> 00:00:32,048\\r\\nAh! Ther...  \n",
       "2  1\\r\\n00:00:53,200 --> 00:00:56,030\\r\\n<i>Yumi'...  \n",
       "3  1\\r\\n00:00:06,000 --> 00:00:12,074\\r\\nWatch an...  \n",
       "4  ï»¿1\\r\\n00:00:06,000 --> 00:00:12,074\\r\\nWatch...  "
      ]
     },
     "execution_count": 17,
     "metadata": {},
     "output_type": "execute_result"
    }
   ],
   "source": [
    "new_df = df[['num', 'name', 'file_content']]\n",
    "new_df.columns = ['subtitle_id', 'subtitle_name', 'subtitle_content']\n",
    "new_df.head()"
   ]
  },
  {
   "cell_type": "code",
   "execution_count": 18,
   "metadata": {},
   "outputs": [],
   "source": [
    "# new_df = new_df.sample(frac = 0.2, random_state = 42)"
   ]
  },
  {
   "cell_type": "code",
   "execution_count": 19,
   "metadata": {},
   "outputs": [
    {
     "data": {
      "text/plain": [
       "(82498, 3)"
      ]
     },
     "execution_count": 19,
     "metadata": {},
     "output_type": "execute_result"
    }
   ],
   "source": [
    "new_df.shape"
   ]
  },
  {
   "cell_type": "code",
   "execution_count": 20,
   "metadata": {},
   "outputs": [],
   "source": [
    "def clean_text(text):\n",
    "    text = re.sub(r'\\d{2}:\\d{2}:\\d{2},\\d{3} --> \\d{2}:\\d{2}:\\d{2},\\d{3}\\r\\n', '', text)\n",
    "    text = re.sub(r'\\r\\n', ' ', text)\n",
    "    text = re.sub(r'<[^>]+>', '', text)\n",
    "    text = re.sub(r'[^a-zA-Z\\s]', '', text)\n",
    "    text = re.sub(r'\\s+', ' ', text)\n",
    "    text = text.lower()\n",
    "    text = re.sub(r'watch any video online with opensubtitles free browser extension osdblinkext', '', text)\n",
    "    text = text.strip()\n",
    "    return text\n",
    "# new_df['subtitle_content'] = new_df['subtitle_content'].apply(clean_text)"
   ]
  },
  {
   "cell_type": "code",
   "execution_count": 21,
   "metadata": {},
   "outputs": [
    {
     "name": "stderr",
     "output_type": "stream",
     "text": [
      "82499it [04:39, 295.30it/s]                           \n",
      "C:\\Users\\neera\\AppData\\Local\\Temp\\ipykernel_9924\\849258213.py:8: SettingWithCopyWarning: \n",
      "A value is trying to be set on a copy of a slice from a DataFrame.\n",
      "Try using .loc[row_indexer,col_indexer] = value instead\n",
      "\n",
      "See the caveats in the documentation: https://pandas.pydata.org/pandas-docs/stable/user_guide/indexing.html#returning-a-view-versus-a-copy\n",
      "  new_df['subtitle_content'] = cleaned_contents\n"
     ]
    }
   ],
   "source": [
    "num_cores = -1 \n",
    "with tqdm_joblib(total=len(new_df)) as pbar:\n",
    "    cleaned_contents = Parallel(n_jobs=num_cores)(\n",
    "        delayed(clean_text)(content) for content in new_df['subtitle_content']\n",
    "    )\n",
    "    pbar.update()\n",
    "\n",
    "new_df['subtitle_content'] = cleaned_contents"
   ]
  },
  {
   "cell_type": "code",
   "execution_count": 22,
   "metadata": {},
   "outputs": [
    {
     "data": {
      "text/plain": [
       "'in the name of god the most gracious the most merciful from muhammad the messenger of god to heracli'"
      ]
     },
     "execution_count": 22,
     "metadata": {},
     "output_type": "execute_result"
    }
   ],
   "source": [
    "# new_df.reset_index(drop = True, inplace = True)\n",
    "new_df['subtitle_content'][0][:100]"
   ]
  },
  {
   "cell_type": "code",
   "execution_count": 23,
   "metadata": {},
   "outputs": [
    {
     "data": {
      "text/html": [
       "<div>\n",
       "<style scoped>\n",
       "    .dataframe tbody tr th:only-of-type {\n",
       "        vertical-align: middle;\n",
       "    }\n",
       "\n",
       "    .dataframe tbody tr th {\n",
       "        vertical-align: top;\n",
       "    }\n",
       "\n",
       "    .dataframe thead th {\n",
       "        text-align: right;\n",
       "    }\n",
       "</style>\n",
       "<table border=\"1\" class=\"dataframe\">\n",
       "  <thead>\n",
       "    <tr style=\"text-align: right;\">\n",
       "      <th></th>\n",
       "      <th>subtitle_id</th>\n",
       "      <th>subtitle_name</th>\n",
       "      <th>subtitle_content</th>\n",
       "    </tr>\n",
       "  </thead>\n",
       "  <tbody>\n",
       "    <tr>\n",
       "      <th>0</th>\n",
       "      <td>9180533</td>\n",
       "      <td>the.message.(1976).eng.1cd</td>\n",
       "      <td>in the name of god the most gracious the most ...</td>\n",
       "    </tr>\n",
       "    <tr>\n",
       "      <th>1</th>\n",
       "      <td>9180583</td>\n",
       "      <td>here.comes.the.grump.s01.e09.joltin.jack.in.bo...</td>\n",
       "      <td>ah theres princess dawn and terry with the blo...</td>\n",
       "    </tr>\n",
       "    <tr>\n",
       "      <th>2</th>\n",
       "      <td>9180592</td>\n",
       "      <td>yumis.cells.s02.e13.episode.2.13.(2022).eng.1cd</td>\n",
       "      <td>yumis cells episode extremely polite yumi yumi...</td>\n",
       "    </tr>\n",
       "    <tr>\n",
       "      <th>3</th>\n",
       "      <td>9180594</td>\n",
       "      <td>yumis.cells.s02.e14.episode.2.14.(2022).eng.1cd</td>\n",
       "      <td>yumis cells episode laptop first place is mine...</td>\n",
       "    </tr>\n",
       "    <tr>\n",
       "      <th>4</th>\n",
       "      <td>9180600</td>\n",
       "      <td>broker.(2022).eng.1cd</td>\n",
       "      <td>if youre going to throw it away then dont give...</td>\n",
       "    </tr>\n",
       "  </tbody>\n",
       "</table>\n",
       "</div>"
      ],
      "text/plain": [
       "   subtitle_id                                      subtitle_name  \\\n",
       "0      9180533                         the.message.(1976).eng.1cd   \n",
       "1      9180583  here.comes.the.grump.s01.e09.joltin.jack.in.bo...   \n",
       "2      9180592    yumis.cells.s02.e13.episode.2.13.(2022).eng.1cd   \n",
       "3      9180594    yumis.cells.s02.e14.episode.2.14.(2022).eng.1cd   \n",
       "4      9180600                              broker.(2022).eng.1cd   \n",
       "\n",
       "                                    subtitle_content  \n",
       "0  in the name of god the most gracious the most ...  \n",
       "1  ah theres princess dawn and terry with the blo...  \n",
       "2  yumis cells episode extremely polite yumi yumi...  \n",
       "3  yumis cells episode laptop first place is mine...  \n",
       "4  if youre going to throw it away then dont give...  "
      ]
     },
     "execution_count": 23,
     "metadata": {},
     "output_type": "execute_result"
    }
   ],
   "source": [
    "new_df.head()"
   ]
  },
  {
   "cell_type": "code",
   "execution_count": 24,
   "metadata": {},
   "outputs": [
    {
     "name": "stderr",
     "output_type": "stream",
     "text": [
      "C:\\Users\\neera\\AppData\\Local\\Temp\\ipykernel_9924\\4139187184.py:1: SettingWithCopyWarning: \n",
      "A value is trying to be set on a copy of a slice from a DataFrame.\n",
      "Try using .loc[row_indexer,col_indexer] = value instead\n",
      "\n",
      "See the caveats in the documentation: https://pandas.pydata.org/pandas-docs/stable/user_guide/indexing.html#returning-a-view-versus-a-copy\n",
      "  new_df['subtitle_name'] = new_df['subtitle_name'].apply(lambda x: re.sub('\\.', ' ', x))\n"
     ]
    }
   ],
   "source": [
    "new_df['subtitle_name'] = new_df['subtitle_name'].apply(lambda x: re.sub('\\.', ' ', x))"
   ]
  },
  {
   "cell_type": "code",
   "execution_count": 25,
   "metadata": {},
   "outputs": [
    {
     "data": {
      "text/html": [
       "<div>\n",
       "<style scoped>\n",
       "    .dataframe tbody tr th:only-of-type {\n",
       "        vertical-align: middle;\n",
       "    }\n",
       "\n",
       "    .dataframe tbody tr th {\n",
       "        vertical-align: top;\n",
       "    }\n",
       "\n",
       "    .dataframe thead th {\n",
       "        text-align: right;\n",
       "    }\n",
       "</style>\n",
       "<table border=\"1\" class=\"dataframe\">\n",
       "  <thead>\n",
       "    <tr style=\"text-align: right;\">\n",
       "      <th></th>\n",
       "      <th>subtitle_id</th>\n",
       "      <th>subtitle_name</th>\n",
       "      <th>subtitle_content</th>\n",
       "    </tr>\n",
       "  </thead>\n",
       "  <tbody>\n",
       "    <tr>\n",
       "      <th>0</th>\n",
       "      <td>9180533</td>\n",
       "      <td>the message (1976) eng 1cd</td>\n",
       "      <td>in the name of god the most gracious the most ...</td>\n",
       "    </tr>\n",
       "    <tr>\n",
       "      <th>1</th>\n",
       "      <td>9180583</td>\n",
       "      <td>here comes the grump s01 e09 joltin jack in bo...</td>\n",
       "      <td>ah theres princess dawn and terry with the blo...</td>\n",
       "    </tr>\n",
       "    <tr>\n",
       "      <th>2</th>\n",
       "      <td>9180592</td>\n",
       "      <td>yumis cells s02 e13 episode 2 13 (2022) eng 1cd</td>\n",
       "      <td>yumis cells episode extremely polite yumi yumi...</td>\n",
       "    </tr>\n",
       "    <tr>\n",
       "      <th>3</th>\n",
       "      <td>9180594</td>\n",
       "      <td>yumis cells s02 e14 episode 2 14 (2022) eng 1cd</td>\n",
       "      <td>yumis cells episode laptop first place is mine...</td>\n",
       "    </tr>\n",
       "    <tr>\n",
       "      <th>4</th>\n",
       "      <td>9180600</td>\n",
       "      <td>broker (2022) eng 1cd</td>\n",
       "      <td>if youre going to throw it away then dont give...</td>\n",
       "    </tr>\n",
       "  </tbody>\n",
       "</table>\n",
       "</div>"
      ],
      "text/plain": [
       "   subtitle_id                                      subtitle_name  \\\n",
       "0      9180533                         the message (1976) eng 1cd   \n",
       "1      9180583  here comes the grump s01 e09 joltin jack in bo...   \n",
       "2      9180592    yumis cells s02 e13 episode 2 13 (2022) eng 1cd   \n",
       "3      9180594    yumis cells s02 e14 episode 2 14 (2022) eng 1cd   \n",
       "4      9180600                              broker (2022) eng 1cd   \n",
       "\n",
       "                                    subtitle_content  \n",
       "0  in the name of god the most gracious the most ...  \n",
       "1  ah theres princess dawn and terry with the blo...  \n",
       "2  yumis cells episode extremely polite yumi yumi...  \n",
       "3  yumis cells episode laptop first place is mine...  \n",
       "4  if youre going to throw it away then dont give...  "
      ]
     },
     "execution_count": 25,
     "metadata": {},
     "output_type": "execute_result"
    }
   ],
   "source": [
    "new_df.head()"
   ]
  },
  {
   "cell_type": "code",
   "execution_count": 26,
   "metadata": {},
   "outputs": [
    {
     "data": {
      "text/plain": [
       "(82498, 3)"
      ]
     },
     "execution_count": 26,
     "metadata": {},
     "output_type": "execute_result"
    }
   ],
   "source": [
    "new_df.shape"
   ]
  },
  {
   "cell_type": "code",
   "execution_count": 27,
   "metadata": {},
   "outputs": [],
   "source": [
    "def srt_files_to_chuncks(row, window_size=512, overlapping=100):\n",
    "    chunks = []\n",
    "    i = 0\n",
    "    while i < len(row['subtitle_content']):\n",
    "        chunk_end = min(i + window_size, len(row['subtitle_content']))\n",
    "        chunks.append(row['subtitle_content'][i:chunk_end])\n",
    "        i += window_size - overlapping\n",
    "    return chunks\n",
    "\n",
    "def process_row(row):\n",
    "    return srt_files_to_chuncks(row)\n"
   ]
  },
  {
   "cell_type": "code",
   "execution_count": 28,
   "metadata": {},
   "outputs": [
    {
     "name": "stderr",
     "output_type": "stream",
     "text": [
      "82499it [01:22, 998.13it/s]                            \n",
      "C:\\Users\\neera\\AppData\\Local\\Temp\\ipykernel_9924\\2548171154.py:8: SettingWithCopyWarning: \n",
      "A value is trying to be set on a copy of a slice from a DataFrame.\n",
      "Try using .loc[row_indexer,col_indexer] = value instead\n",
      "\n",
      "See the caveats in the documentation: https://pandas.pydata.org/pandas-docs/stable/user_guide/indexing.html#returning-a-view-versus-a-copy\n",
      "  new_df['subtitle_content'] = processed_rows\n"
     ]
    }
   ],
   "source": [
    "\n",
    "num_cores = -1\n",
    "with tqdm_joblib(total=len(new_df)) as pbar:\n",
    "    processed_rows = Parallel(n_jobs=num_cores)(\n",
    "        delayed(process_row)(row) for index, row in new_df.iterrows()\n",
    "    )\n",
    "    pbar.update()\n",
    "\n",
    "new_df['subtitle_content'] = processed_rows"
   ]
  },
  {
   "cell_type": "code",
   "execution_count": 29,
   "metadata": {},
   "outputs": [
    {
     "name": "stdout",
     "output_type": "stream",
     "text": [
      "['in the name of god the most gracious the most merciful from muhammad the messenger of god to heraclius the emperor of byzantium greetings to him who is the follower of righteous guidance i bid you to hear the divine call i am the messenger of god to the people accept islam for your salvation he speaks of a new prophet in arabia was it like this when john the baptist came to king herod out of the desert crying about salvation to muqawqis patriarch of alexandria kisra emperor of persia muhammad calls you with', ' about salvation to muqawqis patriarch of alexandria kisra emperor of persia muhammad calls you with the call of god accept islam for your salvation embrace islam you come out of the desert smelling of camel and goat to tell persia where he should kneel muhammad messenger of god who gave him this authority god sent muhammad as a mercy to mankind the scholars and historians of islam the university of alazhar in cairo the high islamic congress of the shiat in lebanon the makers of this film honour the islamic', 'n cairo the high islamic congress of the shiat in lebanon the makers of this film honour the islamic tradition which holds that the impersonation of the prophet offends against the spirituality of his message therefore the person of mohammad will not be shown years after christ died when europe was sunk in the dark ages and everywhere the old civilizations were falling muhammad was born in mecca in arabia mecca was then a rich trading city ruled by its merchants whose wealth was multiplied by a unique privi', 'ca was then a rich trading city ruled by its merchants whose wealth was multiplied by a unique privilege they housed the gods every year at the time of the great fair the desert priests brought their idols and the images of their gods into the custody of the kaaba once the most holy shrine of abraham the kaaba had now become a house of idolotry hosting no fewer than different gods mecca in ad bilal have you had todays count umaya not yet but this year the gods are gold when you put the gods and prophet toge', 'ad todays count umaya not yet but this year the gods are gold when you put the gods and prophet together you sit very pretty between hmm and more gods to place in the kaaba caravan from syria hmmthey must have been running theyll be thirsty put five more men on north wells how many sheep shall i have to kill for them give them a hundred mecca must keep her name for hospitality and ten lambs for the leaders bread and water do the poets have in the hakims house where verse and prose are nightly put to slaught', 'ead and water do the poets have in the hakims house where verse and prose are nightly put to slaughter andand the bread i swear in there is thinner than the water ohopen the space open the space you lovers of poetry to abu sufian willing and which patron of the arts when abu sofyan invites the poet in their joy is kit and love is kin where wines and cakes abound the skills of abu sofyan all revels and all songs begin when abu sofyan invites the poet in from the silkworms of china my lady a pleasure to the l', 'gs begin when abu sofyan invites the poet in from the silkworms of china my lady a pleasure to the limb and as my lady can see a ravish to the eye yes lengths dinars abu sofyans wife oh gold the gods of the kaaba have their needs their upkeeps who is that man who stood there who looked into my soul carry me away from here why must muhammad come down here why dont you stop him he is your nephew maybe he will change change he is years old its unnatural with a rich wife he could afford the best of mecca yet he', 'hange change he is years old its unnatural with a rich wife he could afford the best of mecca yet he chooses to sit shivering in a cave it is unnatural for a man who dares to risk the anger of aluzza who keeps our health manat the god of our prosperity allat the god of our family and tribes and hubal hubal who starts our caravans and predicts our fate to challenge the gods within earshot of the gods is dangerous unreasonable rebellious blasphemous yes im afraid muhammad will harm himself i am always sad whe', 'ous unreasonable rebellious blasphemous yes im afraid muhammad will harm himself i am always sad when the great fair is over i might not see the next one abu talib abu talib catch your breath zaid has muhammad come down from mount hira yet hes been up there three days no no i havent seen him khadijah hoped he might have come to you on his way home then hes still up there three days im afraid for him on the mountain because i dont know what it means men see the world too well from a mountain muhammad read in', 'untain because i dont know what it means men see the world too well from a mountain muhammad read in the name of thy lord who created man from his sensitive drop of blood who teaches man what he knows not read hes still trembling under the blanket but he has spoken zaid what happened to my nephew on the mountain he was alone in the cave suddenly an angel came in to him the angel said read muhammad replied i can not read the angel commanded again read in the name of thy lord who created man from his sensitiv', 'an not read the angel commanded again read in the name of thy lord who created man from his sensitive drop of blood who teaches man what he knows not read who knows if it was gabriel it could have been a dream when muhammad was coming from the mountain he saw gabriel plainly in the shape of a man standing on the horizon wherever he looked upon every turn of his head he saw him and gabriel said to him again i am gabriel and you muhammad are the messenger of god who has he told about this his wife and ali and', 'am gabriel and you muhammad are the messenger of god who has he told about this his wife and ali and his friend abu bakr and you i am his adopted son be careful to whom you talk tell him his uncle who protected him when he was a child will protect him still after all they say the god of moses spoke to him out of a burning bush if you do not restrain your nephew then we will hes dividing the city heart against house hes dividing the generations child against parent the young are listening to him he attracts ', ' house hes dividing the generations child against parent the young are listening to him he attracts the young we are arabs we obey our fathers our children cannot be our teachers how can we accept that the man we met in the street yesterday can be some gods prophet today dead bones can live again he says because he who created man can also make man return from the dead he says the gods might leave us and give their benefits to another city tell himwe will give him authority position and keys to the kaaba an', ' their benefits to another city tell himwe will give him authority position and keys to the kaaba and money what money he wants tell him we will give him anything he wants muhammad spare yourself and me do not put a greater burden on an old man that he can bear in your childhood you were in my arms i cannot now see you hurt if you refuse them they will hurt you he said this to me were they to put the sun in my right hand and the moon in my left i would not renounce my message which is from god when i am dea', 'y right hand and the moon in my left i would not renounce my message which is from god when i am dead you may do as you please but whilst im alive you will obey your father why did you hurt our father if i were drunk every day and played dice every night youd call it high spirits you will be more my brother than you are now you are all my children ive given you everything i could but it seems not to be enough muhammad gives me more he give all the world more get him out of here father its not waleed or me i', ' muhammad gives me more he give all the world more get him out of here father its not waleed or me its our father you tortured him wait hudayfa wait how can they say its an invention musab when it isnt new in mecca its new yet god has said it all before to noah moses jesus to all the prophets but people changed it turned it forgot it now god said it to muhammad again and it is new again what is it its jafar what have you brought with you the very word of god when the sun is overthrown when the stars fall wh', 'hat have you brought with you the very word of god when the sun is overthrown when the stars fall when the mountains vanish when the camels big with young are abandoned when the wild beasts are herded together when the seas rise when the souls are sorted when the female infant who is buried alive asks for what crime she was killed when the books are opened when the sky is torn away then every soul will know what it has done were you there jafar when god gave him these words dawn is coming up ammar you first', 'hat it has done were you there jafar when god gave him these words dawn is coming up ammar you first then you jaafar ammar you kept your mother awake all night with worry im sorry father where were you have you been with muhammad again what will happen now forgive him it was my fault i did it that god has helped us all our lives but it fell it could not even help itself what talk have you been listening to the real god is unseen hes not made of clay ammar we see the gods in the kaaba every day im afraid for', 'e real god is unseen hes not made of clay ammar we see the gods in the kaaba every day im afraid for you youre listening to people who will hurt you im listening to muhammad mother muhammad is generous yes he gives he shares hell pass no man without a smile but he is spreading dangerous ideas dangerous ideas that no man should start that the rich should not afloat the poor the strong should not oppress the weak are these dangerous ideas girls should not be forced into marriage but be able to choose or refus', 'ak are these dangerous ideas girls should not be forced into marriage but be able to choose or refuse by only tonight he said stop the burial of newborn girls i was fortunate always fortunate with your mother yes but you know that you and i nearly never met yasser and you were nearly never born i was to be buried like my two sisters but my father couldnt do it he couldnt do it the third time when the second girl was being when my father was putting sand over her she took hold of his finger the way a baby do', 'irl was being when my father was putting sand over her she took hold of his finger the way a baby does he told my mother afterwards that it was a minute before the tender little grip eased and he dared take away his hand when i was born my father ran out of the house screaming that he couldnt do it again that he could never do it again sumayyah it is the custom but its wrong the gods that let such things be are no gods i promised to go to muhammads house mama we pray there yes he is a good man yes yes you g', 're no gods i promised to go to muhammads house mama we pray there yes he is a good man yes yes you go two men are following him read muhammad can neither write nor read but he can speak what did you say he can speak well so can you so now you speak up young man what does muhammad say umm they are gods words not his which gods what words a speaking god your muhammad speaks only to himself when god reveals his message to muhammad he remembers every word then he tells it to those who can write this is the qura', 'message to muhammad he remembers every word then he tells it to those who can write this is the quran muhammad has starved himself into dreams he hides under a blanket with his eyes shut his eyes are shut but his heart is open you kick him for his cleverness there is no purpose in that doesnt muhammad realize we live by giving housing to the gods we own the kaaba every year the tribes of arabia come here to mecca to pray and to buy from us now were we to replace gods with just one whom we cannot even see wh', 'ecca to pray and to buy from us now were we to replace gods with just one whom we cannot even see who is supposed to be in taif and medina here in my house in jerusalem on the moon where would mecca be then the gods are both our worship and our revenue you cannot buy and sell god young man you are close to the whip ammar be sensible boy i have a question muhammad teaches you a slave is equal to his master this black bilal who i paid money forequal to me yes muhammad says before god all men are as equal as t', 's black bilal who i paid money forequal to me yes muhammad says before god all men are as equal as the teeth of a comb this is a very pleasant idea to slaves and beggars it gives them pretensions bilal teach this man the difference between the lord of mecca and a slave take that whip lash his face to teach his mouth a lesson whip him whip him cut him whip him do it bilal obey them they will kill you see what anarchy they bring theyve even infected our slaves if youre human enough to have gods remember they ', 'anarchy they bring theyve even infected our slaves if youre human enough to have gods remember they are the gods of your owner i bought your humanity bilal when i bought you you will be corrected one one god there is only one god who is stronger now your master or this one god of yours one god there is only one god bring the stones one god one one god crush him break him have you finished with him there is only one god one god you could swear the slave was preaching one god lord umaya abu bakr will pay a di', 'ly one god one god you could swear the slave was preaching one god lord umaya abu bakr will pay a dinars for this slave wait now its against our social order to sell a slave during his correction the offer is to lord umaya if the price of slaves is raised we shall have to bail ourselves next year take him he is no use to me anymore kill him or take him im finished with him we are declaring ourselves god has told his messenger to declare islam to all men open the windows let the world hear we are coming out ', 'old his messenger to declare islam to all men open the windows let the world hear we are coming out of the darkness hear well the word of god hear well the messenger of god there are no other gods but god and muhammad is his messenger there are no other gods but god and muhammad is his messenger we have come into light join us in the march to the kaaba god is most great god is most great god has no partner we have come into light join us in the march to the kaaba muhammad and his rebellion called islam are ', ' have come into light join us in the march to the kaaba muhammad and his rebellion called islam are coming out to foul our gods and dethrone religion dont let them reach the kaaba throw them back defend your gods there is no god but god and muhammad is the messenger of god there is no god but god and muhammad is the messenger of god there is no god but god and muhammad is the messenger of god protect the prophet there is no god but god and muhammad is the messenger of god guards god is great this is blasphe', 'het there is no god but god and muhammad is the messenger of god guards god is great this is blasphemy you idiot god is great god is great god is great there is no god but god and muhammad is the messenger of god nows the time to break them there are only of them no weve done enough more will only create sympathy for them god is great stand down god is great god is great in the name of god most gracious most merciful say o you who reject faith i worship not what you worship keep him out of the kaaba i worsh', 'merciful say o you who reject faith i worship not what you worship keep him out of the kaaba i worship not what you worship keep him out of the kaaba lead them out neither do you worship what i worship lead them out neither do you worship what i worship silence youre a false prophet neither do you worship what i worship silence youre a false prophet finish muhammad protect the prophet finish muhammad protect the prophet messenger of god back to the corner hamza hamza you are brave he is the bravest man in t', 'the prophet messenger of god back to the corner hamza hamza you are brave he is the bravest man in the desert when he meets unarmed men muhammad isis a liar liar if you dont let him speak wheres the lie and wheres the truth when it hasnt been spoken yet muhammad is a fraud stand up hit me back if you dare i affirm my nephews religion and i say what he says whoever has the courage to fight fight with me muhammad when i hunt the desert at night i know god is not kept in a house who would have thought that ham', 'ad when i hunt the desert at night i know god is not kept in a house who would have thought that hamza hamza above all with his wine drinking lion hunting would come to join muhammad the more we attack him more they seem to join him where does he find his words i dont know how can an illiterate man go up on a mountain and come down three days later blazing with poetry if it were just poetry he says its god how do we fight someone whose strength we do not understand muhammad promises heaven trees in the skie', 'w do we fight someone whose strength we do not understand muhammad promises heaven trees in the skies so naturally hes found an audience then we must make that audience less eager to listen to him we will begin with the weaker ones your turn have mercy stretch her who is your god answer me say it say hubal is your god say it there is only one god and muhammad is the messenger of god oh my god ammar your father and mother are the first martyrs of islam you are promised paradise how much are you men prepared ', 'r and mother are the first martyrs of islam you are promised paradise how much are you men prepared to suffer the prophet has said we must leave mecca if you stay they will kill you one by one muhammad says that in abyssinia there is a christian king no man is wronged in his country we must leave now today uthman god be praised let us go we found their tracks and followed them but they just disappeared they were there in the desert under the vultures and you let them escape you escape they vanished if muham', 'ere there in the desert under the vultures and you let them escape you escape they vanished if muhammad has stayed then only the weakest have gone weak or strong theyll blacken our name were honest merchants we buy and sell in good faith we cannot afford scandal abyssinia amr you are a friend of annajashi the king yes can you use that friendship i think i can bring them back yes abyssinia rise up amr please nothing you may ask for that we will not give lion of judah i i dont know where to begin you have our', 'othing you may ask for that we will not give lion of judah i i dont know where to begin you have our friendship begin there certain runaway slaves have escaped from us into your kingdom slaves go back as you no doubt would returned our slaves to us there are however some free men among them rebels rebels disturbance in arabia why am i not informed they are rebels in religion at one time or another all religions were rebellions the bodies of slaves of the world and beaten are disposal but as jesus christ as ', 'ns were rebellions the bodies of slaves of the world and beaten are disposal but as jesus christ as our shepherd the souls of men are his sheep these are arabs who have betrayed the religion of their fathers they follow a lunatic they calla prophet but i cannot put souls into chains without hearing them good theyre stiff next well hang them do you not bow to yourself before your prophet muhammad is a man we kneel only to god where are muhammads miracles jafar if he were a prophet hed light the sky with mira', 'neel only to god where are muhammads miracles jafar if he were a prophet hed light the sky with miracles indeed this is true god has given his prophets the signs of miracles that we may recognize them the miracle of muhammad is the holy quran a book a book written by an illiterate attributed to god i think the emperor has had enough im mindful of petty costs when god set down tongues of fire upon the heads of christs apostles so they could speak the many languages of the world that they knew not before but ', ' christs apostles so they could speak the many languages of the world that they knew not before but do such miracles happen in our times ive heard enough youve made a poor case when we suffered persecution in mecca muhammad told us go to abyssinia the land of the righteous king where no man is wronged what they call persecution was fair punishment that is order now why did your prophet send you to me because you believe in the book of the one god as we do he sent us because in your heart god will protect us', 'you believe in the book of the one god as we do he sent us because in your heart god will protect us talking with him is like drawing water from a mirage but theyve now belay that duty on me to listen to them my friend go on for years we worshiped wood and stone images of our own manufacture we lived in ignorance of god we had few earthly laws and no heavenly laws the rich neglect the poor and the natural pity of man whereby he lifts his brother up when he has fallen is described by them as upsetting social', 'y of man whereby he lifts his brother up when he has fallen is described by them as upsetting social order to this inhumanity has come a man whom god chose and in that we believe youve overcome i beg you to collect yourself i speak of the messenger of god muhammad teaches us to worship one god to speak truth to love our neighbors as ourselves to give charity even a smile can be charity to protect women from misuse to shelter orphans and to turn away from gods of wood and stone i cannot keep still and hear t', 'isuse to shelter orphans and to turn away from gods of wood and stone i cannot keep still and hear this blasphemy we are an ancient civilization to call our gods wood and stone is to speak ignorantly of them the idolthe form is not what we worship but the spirit that resides within the form i agree that idolatry is not always fully understood thank you now let me bring him back to the women god made woman to be the proper companion of man she is different but equal equal we buy them feed them clothe them us', 'be the proper companion of man she is different but equal equal we buy them feed them clothe them use them discard them women equal to us god created man from one male and one female amr you must respect in all woman the womb that bore you why are your guards so tonguetied while this only guard is eloquent god has spoken to us before through abraham noah moses and through jesus christ why should we be so surprised that god speaks to us now through muhammad who taught you those names they are named in the qu', 'rised that god speaks to us now through muhammad who taught you those names they are named in the quran i knew muhammad when he was an orphan minding sheep and we knew christ as a carpenter what christ says and what your muhammad says is like two raised from the same land they are lying to you they deny christ you worship three gods they say father son and holy ghost they say what do you say of christ they say god cannot have a son christ is not the son of god speak to me of christ we say of christ what our', 'y god cannot have a son christ is not the son of god speak to me of christ we say of christ what our prophet has taught us that god cast his holy spirit into the womb of a virgin named mary and that she conceived christ the apostle of god the apostle he says not the son not the son what does your miracle your quran say of the birth of our dear lord jesus christ may i relate the words come closer to me in the name of god most gracious most merciful relate in the book the story of mary how she withdrew from h', 'name of god most gracious most merciful relate in the book the story of mary how she withdrew from her family to a place in the east how we sent to her our angel gabriel who said i am a messenger from your god to announce the birth of a holy son to you she said how shall i mary have a son when no man has touched me and gabriel replied for your lord says it will happen we appoint him as a sign onto man and a mercy from us it is a thing ordained the difference between us and you is not bigger than this line n', 'ercy from us it is a thing ordained the difference between us and you is not bigger than this line not for a mountain of gold will i give them up to you you may live in abyssinia in peace for as long as you wish may gods blessings be upon you when you return lntolerable mohamed disturbs even our foreign alliances very well we will make a foreigner of him abu talib has his arms around him very well we will throw uncle and nephew out in one bundle his whole family out we will expel them from ourselves no merc', 'ow uncle and nephew out in one bundle his whole family out we will expel them from ourselves no merchant may trade with them no land remain to them no roof shelter them no beggar beg for them no woman marry them until they renounce they cant these were the worst years of muhammads life for three years they suffered the hunger thirst cruelty of the open desert but the year of grief was still to come when khadija muhammads wife for years died when abu talib his old protector died with his last breath abu tali', 'ja muhammads wife for years died when abu talib his old protector died with his last breath abu talib tried again to reconcile mecca and muhammad he never asked more from you than one word one one god if it were only a question of one word we would have given him ten words but the word he wants would dethrone all the gods you were afraid even to hear him with the death of his uncle muhammad has now lost all protection he was no longer safe in mecca alone with zaid his adopted son he went to the hillside tow', 'rotection he was no longer safe in mecca alone with zaid his adopted son he went to the hillside town of taif he asked to be taken in to be allowed to preach but the children of taif were turned loose to stone him back into the desert what are you doing stop stop leave him alone go away muhammad called this the bitterest day of his life then miraculously when muhammads mission seemed to have failed his entire situation changed a deputation from the rich but selfdestroying city of medina met him by night at ', ' situation changed a deputation from the rich but selfdestroying city of medina met him by night at the rocks of aqaba asking him to come to them to stand between their factions to mediate their continual quarrels and civil wars muhammad agreed provided they gave him a pledge that they worship the one god only wait when we take this pledge we expel ourselves from the rest of arabia so wait war is in this pledge we are to make enemies of brothers we are to make firewood of our gods that is the meaning of the', 'ge we are to make enemies of brothers we are to make firewood of our gods that is the meaning of the pledge if we take it there can be no turning back for muhammad is indeed the messenger of god foretold to us by the jews in our city so if anyone has doubt in this pledge go now and if you have no doubts then you do as i do i pledge myself to the one and only god and to you muhammad the messenger of god he is of us and we are of him let him bring his followers our brothers to us to medina sync corrections by', 'of us and we are of him let him bring his followers our brothers to us to medina sync corrections by pocongltti this was a journey that changed the world the hijra or flight to medina only people split up into small groups walking miles of desert yet so profound were the consequences so lasting were the effects of this walk that from it the muslims date their calendar in this moment islam found its future muhammad himself stayed in mecca in the greatest danger until all his followers had left safely muhamma', 'ammad himself stayed in mecca in the greatest danger until all his followers had left safely muhammad has become a nation he has received a city entering into pledges and treaties and you salool who claim to be king of medina lost the kingdom last night while you were in bed you should worry about yourself abu sufian every time you trade a whiff of perfume out the city you must creep past that man in medina he is across your mercantile throat so to speak and what do you intend to do l intend to wait and how', 'e is across your mercantile throat so to speak and what do you intend to do l intend to wait and how long will you wait till you and the rest of arabia remove him to save your way of life and while you wait i should accept his call of course does he think i will give him my birthright i will not medina is worth the conversion hypocrisy of course itsa healthy hypocrisy king salool wiping his face on the floor times a day praying i dont believe you he may not have to well do know what we should have done befo', 'times a day praying i dont believe you he may not have to well do know what we should have done before kill muhammad come come and see they say that practice leads to perfection young men each from a different family my own son ikrima is with them they will stab him together if the responsibility for his death is shared where lies the guilt my idea im not sure im part of it muhammads body contains too much his mind his words but it is an ingenious solution and a final one no ali his cousin laid there to die', 's mind his words but it is an ingenious solution and a final one no ali his cousin laid there to die for him who are we fighting they cannot go far all the tracks are watched he must take to the desert bakkah will give camels to the man who brings back muhammad or his head look for of them muhammad abu bakr and uriqat his bedouin guide what is it theyre not grazing camel maybe two days that from the city why are you here medina is to the north they make the tracks not i nomads travelling west i know my art ', 'are you here medina is to the north they make the tracks not i nomads travelling west i know my art they say that you can track a bird by smelling the air we go with them he may be in that cave over there muhammad if you come out we will take you to mecca alive muhammad come out they cant be in there thisthis web is unbroken and these pigeons they would not build we were wrong to follow them we should have gone north lets move then we still have time to head them off a few threads of a spiders web were all ', 'ne north lets move then we still have time to head them off a few threads of a spiders web were all that was then between muhammad and murder but he was a man not to be killed the bedouin guide led him and his companion abu bakr in their escape through untracked spaces of the desert and the heat of the june days at medina his followers waited with their welcome ready but in great fear for his journey anything no nothing he himself says he is only a man no man can survive that heat there i see them look run ', ' no nothing he himself says he is only a man no man can survive that heat there i see them look run and hide i may be obliged to free you as a gesture welcome to the city of medina the blessed your city messenger of god you will stay with me messenger of god i have the best house in medina you will give me the honor of keeping you stay with me please please please how can the prophet choose between so many welcomes where god guides his camel to stop there he will build his house all agreed we turn quaswa hi', 'lcomes where god guides his camel to stop there he will build his house all agreed we turn quaswa his camel loose and where quaswa sits the prophet stays clever man a choice made by a camel can offend no one here we will build the house of the prophet and our first meeting place a prayer house the first mosque of islam here god is great god is great what is the prophet of god doing carrying bricks give me that look you are doing too much please go and sit down well do it look he went for more work is a wors', 't look you are doing too much please go and sit down well do it look he went for more work is a worship he says hes years old how old are you there is something missing maybe a bell to call the people in the christians use a bell mmm yes what about a horn like the jews a drum theres too much blood in a drum why not the human voice as in umar ibn khattabs vision the prophet agrees he means you bilal me you have a good voice use it climb up there brothers today a man of medina will embrace a man of mecca each', 'e a good voice use it climb up there brothers today a man of medina will embrace a man of mecca each will share half and half reach out embrace your neighbor and brother im tired of the politics of kissing slaves read this the prophet should concern himself with the afterworld how is my son praying like a horse does it burn your hands if its not torn up it will burn down the house hes making laws like a king he has declared that loyalty to islam is more than loyalty to tribal family what all muslims are nex', 'he has declared that loyalty to islam is more than loyalty to tribal family what all muslims are next of kin to oneanother dont be mislead by that they must change the nature of the tribes before that the danger is here equality a mans neighbour is as good as himself the lunatic means it jews and christians have equal rights with muslims the jews who attach themselves to a common wealth shall be protected women have rights of inheritance rights next hell be giving the camel rights he has the lunatic has you', 'en have rights of inheritance rights next hell be giving the camel rights he has the lunatic has you cant overload them hes remaking a city my city damn him hes taken our sons from us our future from us his rights are wrongs no more this time it will not be just his riffraff we will take everything of value they have left in mecca their rugs their houses their silver and with it a large of caravan to damascus my friends listen to me i have news from mecca everything you have left behind is gone the thieves ', ' my friends listen to me i have news from mecca everything you have left behind is gone the thieves abu bakrs shops the prophets house sold every cup or piece of cloth every rag or bone you ever owned is thrown on the market you are a people of nothing dont you even fight for what you own who talks of the fight what other way is there hamza when the prophet says fight we fight now he says peace exactly you are a peace loving people up to your necks and forebearers go back to work we have to defend ourselves', 'e a peace loving people up to your necks and forebearers go back to work we have to defend ourselves you are the messenger of god yet they mock abuse and plunder us and we do nothing in the package of war we are pathetic but they are led by greed we are led by god and you now i i know how you hate the sword but we have to fight they have stolen our property they are taking it to damascus right past our own door i say by god get back im sorry im carried away its the pounding in my head please fight them but ', 'or i say by god get back im sorry im carried away its the pounding in my head please fight them but look at the sun its not the time for prayer it is newly revealed by god to his messenger fight but fight in the way of god against those who fight against you drive them out of the places where they drove you out for persecution is worse than slaughter fight them until persecution is no more and religion is for god but if they stop let there be no more war for god never loves the starter of wars so fight in t', ' god but if they stop let there be no more war for god never loves the starter of wars so fight in the way of god against those who fight against you god is great god is great god is great god is great god is great these are the disciplines the prophet puts upon you you may not harm a woman a child or any old person you may not harm cripples you may not harm the man that works in the field you may not cut down trees strike only at those who have expelled you who have stolen your rights and riched themselves', 'n trees strike only at those who have expelled you who have stolen your rights and riched themselves with your possessions now to the wells of badr news from medina arm arm yourselves arm yourselves defend your wealth muhammad has come out of medina to attack the great caravan how many men three hundred two horses we man a horses how many camels seventy well bring a hundred and seventy and load twenty of my camels with wine well make a feast of it this is a war id like to fight a war we cannot lose ride to ', 'amels with wine well make a feast of it this is a war id like to fight a war we cannot lose ride to abu sofyans caravan tell him to turn towards badr we will join our forces tomorrow at the wells of badr the wells of badr here muhammads march here my charge of the caravan here one days march meet them at the wells i dont like it there is too much of mecca in my caravan to be risked put out the fires hold the camels we are turning west away from the wells away you cant you must meet them at badr we can drink', 'camels we are turning west away from the wells away you cant you must meet them at badr we can drink them down like raw eggs if i run all night ill be out of muhammads reach by morning where is your honor abu sofyan honor my honor is on the backs of my camels yes i run muhammad has occupied the wells he has moved directly into our line of march abu sofyan has broken camp hes moving west away from badr the caravan is safe so there is no need to fight not fight if we fight we will start blood feuds between br', 'avan is safe so there is no need to fight not fight if we fight we will start blood feuds between brothers between father and son you mean hudayfa your own son is with them he should have been whipped mecca is greater than your family waleed your second son he is your true blood i say fight we stand in the present let the future look after itself otba is not a coward we finish them tomorrow we fight we fight are you finished form ranks battle positions each man to his own place go back to your columns move ', 'are you finished form ranks battle positions each man to his own place go back to your columns move away move back so muhammads filled the wells now everyone brought here will have to fight for theirs good we fight brothers we hold the wells we stand in the name of god and his messenger we wait send us your champions battle of badr who are you we expect our peers and our equals come back my brother shaiba my son waleed and myself not you ubaida and i and ali are we your equals there is only one god and muha', 'son waleed and myself not you ubaida and i and ali are we your equals there is only one god and muhammad is his messenger archers advance archers hold stretch stretch stretch archers archers back they are regrouping forward ready lancers god is great archers god is great god is great umaya umaya bilal god is great onward to victory god is great the prophet has seen you you are not to rope or drag the prisoners they wouldve roped us cut them loose i said cut them loose and give them water and share your food', 's they wouldve roped us cut them loose i said cut them loose and give them water and share your food equal mouthfulls and if they walk walk beside them any prisoner who can teach muslims to read will go free why dont they go away because they blame me hind for whatever reason good or bad i should have joined them and drown at the wells of badr with them but i saved the caravan and our future with it why sing at me why sing my father and my brother as its not me do you think i need you to remind me muhammad ', 'at me why sing my father and my brother as its not me do you think i need you to remind me muhammad ali hamza with my nails hamza i will give you measure for measure with my nails killer cut throat butcher murdering beast you slaughtered my father hamza i will hunt a lion hunter i will make hamza a running lion my prey and when you are dead hamza i will cut your heart out taste your blood cut you into pieces i forbit this wailing it cannot go on what we should do we will do we will call in our allies raise ', 'i forbit this wailing it cannot go on what we should do we will do we will call in our allies raise a new army against them this time we will prepare it and plan it hamza come to prayer come to prayer come to victory come to victory god is great there is no god but god is it a plague what kind of an upside down town have we come in to you could fill your pockets very nicely here no merchant is minding his shop god is minding the shop where do you come from yemen did you stop in mecca it is on the road you d', 'p god is minding the shop where do you come from yemen did you stop in mecca it is on the road you didnt answer my question did you stop in mecca long enough to rest my camels camels rest better in mecca than anywhere in the world yes what is the word on the desert oh it is bad for you they are gathering every young man with a sword is on his way to mecca our strength is here do not underestimate them they are summoning up their courage in mecca there is music in every house an abyssinian slave watch him he', 'e summoning up their courage in mecca there is music in every house an abyssinian slave watch him he is good he is vicious watch him i will free you give you your weight in silver and your height in silk for one throw like this so they have come at last well know how many soon enough its a big army three thousand men hundreds of horses we beat them at badr that was a year ago they have come to revenge badr go home and get your swords soldiers of mecca blood master blood avenge the dead of badr battle of uhu', ' home and get your swords soldiers of mecca blood master blood avenge the dead of badr battle of uhud there hamza can you see him he is your fortune ubada those horsemen on the flank out there theyre oddly placed they are under khalid khalid i often thought of that young man hamza yes the prophet asks if you have noticed those horsemen yes i have i dont like them hes sending out archers to watch them no matter what happens the archers must hold off those horsemen zaid tell the prophet we are ready what do y', 'r what happens the archers must hold off those horsemen zaid tell the prophet we are ready what do you think hamza well they outnumber us so id say its a fair fight we see them and they see us what faces me has never frightened me all praise be to hubal hubal when muhammad gives the word we will go to them hamza weapons ready we march now attack theyve killed hamza on to them you take this fight back where are you going fight fight fight back this is a moment of victory theyre running away from us lets get ', 'e you going fight fight fight back this is a moment of victory theyre running away from us lets get the loot stand where you are told to stand come back to your positions all of you come back its a road our centre is gone weve lost the battle khalid not yet hold on where is the prophet muhammad is dead i saw him fall no no hes alive find him back back to the mountains halt i thought we were beaten now victory is yours khalid we have no victory until we have finished muhammad he is up in those rocks we have ', ' is yours khalid we have no victory until we have finished muhammad he is up in those rocks we have finished our business we have avenged badr but we can end him and islam forever some of his fanatics are still with him they have the advantage of the mountains the risk is too high muhammad listen a day for a day the day of uhub for the day of badr our dead have answered to your dead our dead are in paradise your dead are in hell fire hamza hamza do you hear me hamza do you know that i am with you i hind do ', 'our dead are in hell fire hamza hamza do you hear me hamza do you know that i am with you i hind do you remember anything hamza how you killed my father and my brother now you too are dead my heart is light do you hear hamza light but i havent finished with you death is too small wahshi cut him open cut him they lost a battle and what do they do they come home and dig the ground harder theyre mad i agree with you they defy reason they are even happy they lost god sent their defeat they say to try them in th', ' you they defy reason they are even happy they lost god sent their defeat they say to try them in their faith oh yes they are fighting with the sky theyll get what they want they want mecca theyll get mecca when we see the stars at noon dont underestimate them ive learned that to my cost my friend mecca is more than their home its where god spoke to man mecca is like a homesickness to the soul this year theyre going as pilgrims what unarmed unarmed abu sofyan will slaughter them in the desert if you believe', 'e going as pilgrims what unarmed unarmed abu sofyan will slaughter them in the desert if you believe in god as they do it might be possible not to get slaughtered but i agree with you they probably will be be still do not let them provoke you that is what they want stand firm peace be to you the prophet says all who love god must renew their oaths to him under the tree theyve sent someone else its suheil that means we might come to an agreement muhammad you have been given conditions of truce between yourse', ' means we might come to an agreement muhammad you have been given conditions of truce between yourself and mecca have you agreed to them yet what is this in the name of god the most gracious who is this new god they call gracious i do not know him strike him out and i cannot agree with this muhammad the messenger of god if i have thought you were the messenger of god i would not have fought you make it muhammad the son of abdullah agrees with suhayl the son of amr that is more factual well so i understand g', 'ad the son of abdullah agrees with suhayl the son of amr that is more factual well so i understand good that is better now it is agreed that you do not continue your pilgrimage you must turn around and go home mecca is home however you may continue your pilgrimage next year and for days only in and out we also agree to the truce for years during that time you will not attack any tribe or ambush any caravan or any individual associated with us and vice versa if you injure any one of us the truce ends and vic', ' any individual associated with us and vice versa if you injure any one of us the truce ends and vice versa is that clear ten years ten years of peace we need that time we will use that time these letters from muhammad messenger of god to the rulers of the world call the world to islam to heraclius emperor of byzantium kisra emperor of persia muqawqis patriarch of alexandria god go with you god is great god is great god is great there are no different races in islam an arab is not superior to a foreigner no', 's great god is great there are no different races in islam an arab is not superior to a foreigner nor a white man superior to a black all return equally to god unless you desire for your neighbour what you desire for yourself you dont have faith a man goes to bed with his belly full while his neighbor is hungry he isnt a muslim the ink of a scholar is holier than the blood of a martyr a man reading is handsome in the sight of god so learn to read and when you have learned teach the people of the book the je', 'e in the sight of god so learn to read and when you have learned teach the people of the book the jews with their bible the christians with their testament must be respected by you for their books likewise came from god you must not think of muhammad as more than a man he was collecting firewood one day let me do it i said why he said you are the prophet of god you cant go around scratching for firewood but he looked at me mumbling god does not like the man who considers himself above other men he said so i', 'e looked at me mumbling god does not like the man who considers himself above other men he said so i laid back and watched him suddenly he stopped he stood to his full height and came to me yes i am the prophet of god he said but even i do not know what will become of me amr have you come to take me again no i have come to ask you to take me i witness that there is only one god and that muhammad is his messenger may god forgive me the times i have fought against you islam does away with all that went before', 'ger may god forgive me the times i have fought against you islam does away with all that went before it im sorry i came in here wearing here are my jewels what they are worth i give to the poor and may i offer you my yes but you were the bitterest sword against islam now by the will of god i will be the raised sword of god ah its all easy to god just as he makes dying living he can make losing winning two years ago we thought we were beaten when we had to sign that truce look at us now charging from victory', 'rs ago we thought we were beaten when we had to sign that truce look at us now charging from victory to victory in the hearts of men whats that abu sofyan is coming abu sofyan why am i insulted like this im abu sofyan i expect some courtesy we are not at war we have a truce i have come to speak to muhammad where is he he is in the mosque muhammad we did not break the truce i have come to reaffirm the truce i speak for mecca muhammad why do you turn from me dont go muhammad dont go bedouins broke the truce n', 'speak for mecca muhammad why do you turn from me dont go muhammad dont go bedouins broke the truce not us the night was dark i am here to testify the night was dark barra barra this is your city hudayfa you are my kin aim to see for me i must be heard i am mecca i am the leader of mecca why am i insulted like this because you keep no promise and respect no pledge i have heard what i never thought id hear abu sofyan asking for pity to be outfought outfought outmaneuvered by a onetime shepherd you saw that sh', 'sofyan asking for pity to be outfought outfought outmaneuvered by a onetime shepherd you saw that shepherds religion grow from a speck speck was in my eye i could see nothing tell mecca their gods are dead it is useless to resist god travel fast or every man here will be close behind you its you who have broken the truce for tonight will be ten thousand men from every tribe now we can fight them you are back we will close the streets and defend from the houses its no use there are thousands of them every ho', 'we will close the streets and defend from the houses its no use there are thousands of them every hour they are joined by more you coward hind go home you coward are you the leader of mecca look at yourself you are broke they swallowed you and spat you back did my father and brother die for my husband to run away you go home you we can not resist mecca is taken no no we are to camp here for the night i can see mecca even through the mountains so many fires i cannot count them its very beautiful when we drov', 'e mecca even through the mountains so many fires i cannot count them its very beautiful when we drove them out of mecca i did not know they carried mecca with them we can smell the bread theyre baking yes it means they dont intend to plunder at least i hope thats what it means they dont want blood on their own walls and doorsteps i can bargain with that take me to him so you are giving us the city you offer me no bread i understand you may decide to kill me say what you have come to say i saw your fires the']\n"
     ]
    }
   ],
   "source": [
    "print(new_df['subtitle_content'][0][:100])"
   ]
  },
  {
   "cell_type": "code",
   "execution_count": 30,
   "metadata": {},
   "outputs": [
    {
     "name": "stderr",
     "output_type": "stream",
     "text": [
      "100%|██████████| 82498/82498 [00:00<00:00, 180023.67it/s]\n",
      "C:\\Users\\neera\\AppData\\Local\\Temp\\ipykernel_9924\\2523961885.py:1: SettingWithCopyWarning: \n",
      "A value is trying to be set on a copy of a slice from a DataFrame.\n",
      "Try using .loc[row_indexer,col_indexer] = value instead\n",
      "\n",
      "See the caveats in the documentation: https://pandas.pydata.org/pandas-docs/stable/user_guide/indexing.html#returning-a-view-versus-a-copy\n",
      "  new_df['subtitle_name'] = new_df['subtitle_name'].progress_apply(lambda x: re.sub('\\.', ' ', x))\n"
     ]
    }
   ],
   "source": [
    "new_df['subtitle_name'] = new_df['subtitle_name'].progress_apply(lambda x: re.sub('\\.', ' ', x))"
   ]
  },
  {
   "cell_type": "code",
   "execution_count": 31,
   "metadata": {},
   "outputs": [
    {
     "data": {
      "text/html": [
       "<div>\n",
       "<style scoped>\n",
       "    .dataframe tbody tr th:only-of-type {\n",
       "        vertical-align: middle;\n",
       "    }\n",
       "\n",
       "    .dataframe tbody tr th {\n",
       "        vertical-align: top;\n",
       "    }\n",
       "\n",
       "    .dataframe thead th {\n",
       "        text-align: right;\n",
       "    }\n",
       "</style>\n",
       "<table border=\"1\" class=\"dataframe\">\n",
       "  <thead>\n",
       "    <tr style=\"text-align: right;\">\n",
       "      <th></th>\n",
       "      <th>subtitle_id</th>\n",
       "      <th>subtitle_name</th>\n",
       "      <th>subtitle_content</th>\n",
       "    </tr>\n",
       "  </thead>\n",
       "  <tbody>\n",
       "    <tr>\n",
       "      <th>0</th>\n",
       "      <td>9180533</td>\n",
       "      <td>the message (1976) eng 1cd</td>\n",
       "      <td>[in the name of god the most gracious the most...</td>\n",
       "    </tr>\n",
       "    <tr>\n",
       "      <th>1</th>\n",
       "      <td>9180583</td>\n",
       "      <td>here comes the grump s01 e09 joltin jack in bo...</td>\n",
       "      <td>[ah theres princess dawn and terry with the bl...</td>\n",
       "    </tr>\n",
       "    <tr>\n",
       "      <th>2</th>\n",
       "      <td>9180592</td>\n",
       "      <td>yumis cells s02 e13 episode 2 13 (2022) eng 1cd</td>\n",
       "      <td>[yumis cells episode extremely polite yumi yum...</td>\n",
       "    </tr>\n",
       "    <tr>\n",
       "      <th>3</th>\n",
       "      <td>9180594</td>\n",
       "      <td>yumis cells s02 e14 episode 2 14 (2022) eng 1cd</td>\n",
       "      <td>[yumis cells episode laptop first place is min...</td>\n",
       "    </tr>\n",
       "    <tr>\n",
       "      <th>4</th>\n",
       "      <td>9180600</td>\n",
       "      <td>broker (2022) eng 1cd</td>\n",
       "      <td>[if youre going to throw it away then dont giv...</td>\n",
       "    </tr>\n",
       "  </tbody>\n",
       "</table>\n",
       "</div>"
      ],
      "text/plain": [
       "   subtitle_id                                      subtitle_name  \\\n",
       "0      9180533                         the message (1976) eng 1cd   \n",
       "1      9180583  here comes the grump s01 e09 joltin jack in bo...   \n",
       "2      9180592    yumis cells s02 e13 episode 2 13 (2022) eng 1cd   \n",
       "3      9180594    yumis cells s02 e14 episode 2 14 (2022) eng 1cd   \n",
       "4      9180600                              broker (2022) eng 1cd   \n",
       "\n",
       "                                    subtitle_content  \n",
       "0  [in the name of god the most gracious the most...  \n",
       "1  [ah theres princess dawn and terry with the bl...  \n",
       "2  [yumis cells episode extremely polite yumi yum...  \n",
       "3  [yumis cells episode laptop first place is min...  \n",
       "4  [if youre going to throw it away then dont giv...  "
      ]
     },
     "execution_count": 31,
     "metadata": {},
     "output_type": "execute_result"
    }
   ],
   "source": [
    "new_df.head()"
   ]
  },
  {
   "cell_type": "code",
   "execution_count": 32,
   "metadata": {},
   "outputs": [
    {
     "name": "stderr",
     "output_type": "stream",
     "text": [
      "100%|██████████| 1/1 [00:01<00:00,  1.75s/it]\n"
     ]
    }
   ],
   "source": [
    "with tqdm(total=1) as pbar:\n",
    "    new_df = new_df.explode('subtitle_content', ignore_index=False)\n",
    "    pbar.update()"
   ]
  },
  {
   "cell_type": "code",
   "execution_count": 33,
   "metadata": {},
   "outputs": [
    {
     "data": {
      "text/plain": [
       "(5197326, 3)"
      ]
     },
     "execution_count": 33,
     "metadata": {},
     "output_type": "execute_result"
    }
   ],
   "source": [
    "new_df.shape"
   ]
  },
  {
   "cell_type": "code",
   "execution_count": 34,
   "metadata": {},
   "outputs": [],
   "source": [
    "#new_df.to_csv('main_search_engine.csv', index = False)"
   ]
  },
  {
   "cell_type": "code",
   "execution_count": 35,
   "metadata": {},
   "outputs": [],
   "source": [
    "import chromadb\n",
    "from chromadb.utils import embedding_functions\n",
    "from sentence_transformers import SentenceTransformer,util"
   ]
  },
  {
   "cell_type": "code",
   "execution_count": 50,
   "metadata": {},
   "outputs": [],
   "source": [
    "client = chromadb.PersistentClient(path=\"C:\\\\Users\\\\neera\\\\OneDrive\\\\Desktop\\\\Innomatics_Labs_data_science\\\\Semantic_Search_Engine_Final_Project\\\\db_files\")"
   ]
  },
  {
   "cell_type": "code",
   "execution_count": 51,
   "metadata": {},
   "outputs": [
    {
     "data": {
      "text/plain": [
       "1714019557344042600"
      ]
     },
     "execution_count": 51,
     "metadata": {},
     "output_type": "execute_result"
    }
   ],
   "source": [
    "client.heartbeat()"
   ]
  },
  {
   "cell_type": "code",
   "execution_count": 52,
   "metadata": {},
   "outputs": [],
   "source": [
    "sentence_transformer_ef = embedding_functions.SentenceTransformerEmbeddingFunction(model_name=\"all-MiniLM-L6-v2\")"
   ]
  },
  {
   "cell_type": "code",
   "execution_count": 39,
   "metadata": {},
   "outputs": [],
   "source": [
    "collection = client.create_collection(\n",
    "        name=\"subtitles_embedded\",\n",
    "        metadata={\"hnsw:space\": \"cosine\"},\n",
    "        embedding_function=sentence_transformer_ef\n",
    "    )"
   ]
  },
  {
   "cell_type": "code",
   "execution_count": 40,
   "metadata": {},
   "outputs": [],
   "source": [
    "# df_for_em = new_df.sample(frac = 0.08, random_state = 42, axis = 0)\n",
    "df_for_em = new_df"
   ]
  },
  {
   "cell_type": "code",
   "execution_count": 41,
   "metadata": {},
   "outputs": [
    {
     "data": {
      "text/plain": [
       "(5197326, 3)"
      ]
     },
     "execution_count": 41,
     "metadata": {},
     "output_type": "execute_result"
    }
   ],
   "source": [
    "df_for_em.shape"
   ]
  },
  {
   "cell_type": "code",
   "execution_count": 42,
   "metadata": {},
   "outputs": [],
   "source": [
    "# df_for_em.reset_index(drop = True, inplace = True)"
   ]
  },
  {
   "cell_type": "code",
   "execution_count": 43,
   "metadata": {},
   "outputs": [],
   "source": [
    "model = SentenceTransformer(\"all-MiniLM-L6-v2\")"
   ]
  },
  {
   "cell_type": "code",
   "execution_count": 44,
   "metadata": {},
   "outputs": [],
   "source": [
    "df_with_em = df_for_em "
   ]
  },
  {
   "cell_type": "code",
   "execution_count": 45,
   "metadata": {},
   "outputs": [],
   "source": [
    "def encoding_content(x):\n",
    "    return model.encode(x, normalize_embeddings=True).tolist()\n",
    "\n",
    "# df_with_em.loc[:, 'subtitle_content_encoded'] = df_for_em['subtitle_content'].progress_apply(encoding_content)"
   ]
  },
  {
   "cell_type": "code",
   "execution_count": 46,
   "metadata": {},
   "outputs": [],
   "source": [
    "from joblib import parallel_backend"
   ]
  },
  {
   "cell_type": "code",
   "execution_count": 47,
   "metadata": {},
   "outputs": [],
   "source": [
    "# num_cores = -1  \n",
    "# with tqdm_joblib(total=len(df_for_em)) as pbar:\n",
    "#     encoded_contents = Parallel(n_jobs=num_cores)(\n",
    "#         delayed(encoding_content)(content) for content in df_for_em['subtitle_content']\n",
    "#     )\n",
    "#     pbar.update()\n",
    "# df_with_em['subtitle_content_encoded'] = encoded_contents"
   ]
  },
  {
   "cell_type": "code",
   "execution_count": 49,
   "metadata": {},
   "outputs": [],
   "source": [
    "num_cores = -1\n",
    "with parallel_backend('threading', n_jobs=num_cores):\n",
    "    encoded_contents = Parallel()(delayed(encoding_content)(content) for content in tqdm(df_for_em['subtitle_content']))\n",
    "\n",
    "df_with_em['subtitle_content_encoded'] = encoded_contents"
   ]
  },
  {
   "cell_type": "code",
   "execution_count": null,
   "metadata": {},
   "outputs": [],
   "source": [
    "df_with_em.info()"
   ]
  },
  {
   "cell_type": "code",
   "execution_count": null,
   "metadata": {},
   "outputs": [],
   "source": [
    "df_with_em.head()"
   ]
  },
  {
   "cell_type": "code",
   "execution_count": null,
   "metadata": {},
   "outputs": [],
   "source": [
    "for i in tqdm(range(df_with_em.shape[0])):\n",
    "    collection.add(\n",
    "        documents=df_with_em['subtitle_content'].iloc[i],\n",
    "        embeddings=df_with_em['subtitle_content_encoded'].iloc[i],\n",
    "        metadatas= {'subtitle_name': df_with_em['subtitle_name'].iloc[i], 'subtitle_id': str(df_with_em['subtitle_id'].iloc[i])},\n",
    "        ids=str(i)\n",
    "    )"
   ]
  },
  {
   "cell_type": "code",
   "execution_count": null,
   "metadata": {},
   "outputs": [],
   "source": [
    "import random\n",
    "temp = df_with_em.iloc[random.randint(0, len(df_with_em))]\n",
    "for i in range(4):\n",
    "    if i == 3:\n",
    "        continue\n",
    "    else:\n",
    "        print(temp[i])"
   ]
  },
  {
   "cell_type": "code",
   "execution_count": 62,
   "metadata": {},
   "outputs": [],
   "source": [
    "collection = client.get_collection(name=\"subtitles_embedded\", embedding_function=sentence_transformer_ef)"
   ]
  },
  {
   "cell_type": "code",
   "execution_count": 63,
   "metadata": {},
   "outputs": [],
   "source": [
    "# query = \"ross you know yesterday he asked me to fix him up with somebody\"\n",
    "query = \"hey ross how are you\"\n",
    "\n",
    "query = clean_text(query)"
   ]
  },
  {
   "cell_type": "code",
   "execution_count": 65,
   "metadata": {},
   "outputs": [],
   "source": [
    "query_em = encoding_content(query)"
   ]
  },
  {
   "cell_type": "code",
   "execution_count": 66,
   "metadata": {},
   "outputs": [],
   "source": [
    "search_results = collection.query(query_embeddings=query_em, n_results=5)"
   ]
  },
  {
   "cell_type": "code",
   "execution_count": 67,
   "metadata": {},
   "outputs": [
    {
     "name": "stdout",
     "output_type": "stream",
     "text": [
      "Top 5 Results\n",
      "Result 1 :  friends s02 e01 the one with rosss new girlfriend (1995) eng 1cd\n",
      "Result 2 :  friends s08 e04 the one with the videotape (2001) eng 1cd\n",
      "Result 3 :  friends s10 e17 the last one (2004) eng 1cd\n",
      "Result 4 :  friends s06 e13 the one with rachels sister (2000) eng 1cd\n",
      "Result 5 :  friends s09 e14 the one with the blind dates (2003) eng 1cd\n"
     ]
    }
   ],
   "source": [
    "print(\"Top 5 Results\")\n",
    "for i, res in enumerate(search_results['metadatas'][0]):\n",
    "    print(f\"Result {i+1} : \", res['subtitle_name']) \n"
   ]
  }
 ],
 "metadata": {
  "kernelspec": {
   "display_name": "SAP",
   "language": "python",
   "name": "python3"
  },
  "language_info": {
   "codemirror_mode": {
    "name": "ipython",
    "version": 3
   },
   "file_extension": ".py",
   "mimetype": "text/x-python",
   "name": "python",
   "nbconvert_exporter": "python",
   "pygments_lexer": "ipython3",
   "version": "3.11.5"
  }
 },
 "nbformat": 4,
 "nbformat_minor": 2
}
